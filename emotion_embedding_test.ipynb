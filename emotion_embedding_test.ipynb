{
  "cells": [
    {
      "cell_type": "markdown",
      "metadata": {
        "id": "HwaQq4GRU_Nw"
      },
      "source": [
        "# Evaluate the capability of emotion embedding module\n",
        "\n",
        "##### HOW?\n",
        "\n",
        "Extract from the module only the emotion embedder, compute the embeddings of sample batch from each class (in this case the 4 emotions) and plot the representation in a *low dimensionality space* with a dimensionality reduction procedure.\n"
      ]
    },
    {
      "cell_type": "markdown",
      "metadata": {
        "id": "hCpoXuZeGKAn"
      },
      "source": [
        "### Load Libraries"
      ]
    },
    {
      "cell_type": "code",
      "execution_count": 2,
      "metadata": {
        "id": "3on9IjGhVGTP"
      },
      "outputs": [],
      "source": [
        "# load packages\n",
        "import yaml\n",
        "from munch import Munch\n",
        "import torch\n",
        "import torchaudio\n",
        "import librosa\n",
        "import pandas as pd\n",
        "from models import EmotionEncoder\n",
        "from sklearn.decomposition import PCA\n",
        "from sklearn.manifold import MDS\n",
        "from matplotlib import pyplot as plt\n",
        "import seaborn as sns\n",
        "from typing import Dict, List\n",
        "\n",
        "to_mel = torchaudio.transforms.MelSpectrogram(\n",
        "    n_mels=80, n_fft=2048, win_length=1200, hop_length=300)\n",
        "mean, std = -4, 4"
      ]
    },
    {
      "cell_type": "markdown",
      "metadata": {},
      "source": [
        "### Define notebook variable\n",
        "\n",
        "| Variable Name | Meaning |\n",
        "|:---:|:---:|\n",
        "| DEVICE | Device on which computations are executed |\n",
        "| DATA_PATH | Relative path of the file that contains the **sample set** |\n",
        "| DATA_HEADER | Header definition of the DATA_PATH file |\n",
        "| DATA_SEPARETOR | Separetor of the DATA_PATH file |\n",
        "| MODEL_CODE | The Model Code |\n",
        "| CHECKPOINT_NAME | The name of the checkpoint |\n",
        "| EMOTION_EMBEDDER_CODE* | The name of the module that provide the emotion embedding |\n",
        "\n",
        "\n",
        "\\* **ATTENTION** the name is \"model dependent\" in the sense that it can be both style_encoder or emotion_encoder, it depends on:\n",
        "- The experiment\n",
        "- The developer :*)"
      ]
    },
    {
      "cell_type": "code",
      "execution_count": 3,
      "metadata": {},
      "outputs": [],
      "source": [
        "DEVICE = \"cuda:0\"\n",
        "DATA_PATH = \"Data/emotion_embedding_test_file.txt\"\n",
        "DATA_HEADER = [\"file_path\",\"emotion_id\"]\n",
        "DATA_SEPARETOR = \"|\"\n",
        "MODEL_CODE = \"Experiment-3\"\n",
        "CHECKPOINT_NAME = \"ex_3_epoch.pth\"\n",
        "EMOTION_EMBEDDER_CODE = \"emotion_encoder\"\n",
        "\n",
        "%matplotlib inline"
      ]
    },
    {
      "cell_type": "markdown",
      "metadata": {},
      "source": [
        "### Function definition"
      ]
    },
    {
      "cell_type": "code",
      "execution_count": 4,
      "metadata": {
        "id": "4SFZgbD4FiHY"
      },
      "outputs": [],
      "source": [
        "def preprocess(wave: torch.Tensor) -> torch.Tensor:\n",
        "    \"\"\" From a wave tensor produce a spectrogram representation\n",
        "\n",
        "    Args:\n",
        "        wave (Sample,1): The waveform of the source audio, it depends from audio length and sampling rate.\n",
        "\n",
        "    Returns:\n",
        "       (AudioChannel, MelBandChannel, TemporalFrame): The spectrogram of the relative waveform.\n",
        "    \"\"\"  \n",
        "    wave_tensor = torch.from_numpy(wave).float()\n",
        "    mel_tensor = to_mel(wave_tensor) # Out: (AudioChannel, MelBandChannel, TemporalFrame)\n",
        "    mel_tensor = (torch.log(1e-5 + mel_tensor.unsqueeze(0)) - mean) / std\n",
        "    return mel_tensor\n",
        "\n",
        "def build_model(model_params: Dict[str, int]) -> Munch:\n",
        "    \"\"\"Create the emotion embedder\n",
        "\n",
        "    Args:\n",
        "        model_params (Dict[str, int]): key: model parameter, value: value of the parameter\n",
        "\n",
        "    Returns:\n",
        "        Munch: The emotion embedder\n",
        "    \"\"\"    \n",
        "    args = Munch(model_params)\n",
        "    emotion_encoder = EmotionEncoder(args.dim_in, args.style_dim, args.num_domains, args.max_conv_dim)\n",
        "    model = Munch(emotion_encoder=emotion_encoder)\n",
        "    params = torch.load(f\"./Models/{MODEL_CODE}/{CHECKPOINT_NAME}\", map_location=DEVICE)\n",
        "    params = params['model_ema']\n",
        "    _ = [model[key].load_state_dict(params[key]) for key in model if key == EMOTION_EMBEDDER_CODE]\n",
        "    _ = [model[key].eval() for key in model if key == EMOTION_EMBEDDER_CODE]\n",
        "    model.emotion_encoder = model.emotion_encoder.to(DEVICE)\n",
        "    return model\n",
        "\n",
        "def compute_style(model: Munch, sample_dicts: Dict[int, tuple]) -> List[torch.Tensor]:\n",
        "    \"\"\"Compute style for a batch of sample\n",
        "\n",
        "    Args:\n",
        "        model (Munch): The model.\n",
        "        sample_dicts (Dict[int, tuple]): key: sample_id, value: (tuple) -> (relative audio path, emotion id) \n",
        "\n",
        "    Returns:\n",
        "        List[(1, embedding_dim)]: The list of embeddings obtained from the source samples\n",
        "    \"\"\"    \n",
        "    reference_embeddings = []\n",
        "    for key, (path, emotion_id) in sample_dicts.items():\n",
        "        wave, sr = librosa.load(path, sr=24000)\n",
        "        audio, index = librosa.effects.trim(wave, top_db=30)\n",
        "        if sr != 24000:\n",
        "            wave = librosa.resample(wave, sr, 24000)\n",
        "        mel_spectrogram = torch.zeros((1,80,192))\n",
        "        mel_tensor = preprocess(wave)\n",
        "        if mel_tensor.shape[2] > 192:\n",
        "            mel_spectrogram = mel_tensor[:,:,:192]\n",
        "        else:\n",
        "            mel_spectrogram[:,:,:mel_tensor.shape[2]] = mel_tensor\n",
        "        mel_spectrogram = mel_spectrogram.to(DEVICE)\n",
        "        with torch.no_grad():\n",
        "            label = torch.LongTensor([emotion_id])\n",
        "            ref = model.emotion_encoder(mel_spectrogram.unsqueeze(1), label) # Out (1, embedding_dim)\n",
        "        reference_embeddings.append(ref)\n",
        "    return reference_embeddings"
      ]
    },
    {
      "cell_type": "markdown",
      "metadata": {
        "id": "MMWjcdaVFiHZ"
      },
      "source": [
        "### Load model\n",
        "\n",
        "**ATTENTION** the key used on the list generator is \"model dependent\" in the sense that it can be both style_encoder or emotion_encoder, it depends on:\n",
        "- The experiment\n",
        "- The developer :*)"
      ]
    },
    {
      "cell_type": "code",
      "execution_count": 5,
      "metadata": {
        "id": "Ou4367LCyefA"
      },
      "outputs": [],
      "source": [
        "with open(f'./Models/{MODEL_CODE}/config.yml') as f:\n",
        "    starganv2_config = yaml.safe_load(f)\n",
        "starganv2 = build_model(model_params=starganv2_config[\"model_params\"])"
      ]
    },
    {
      "cell_type": "markdown",
      "metadata": {
        "id": "7KvrzOfuFiHc"
      },
      "source": [
        "### Retrieve embeddings"
      ]
    },
    {
      "cell_type": "code",
      "execution_count": 10,
      "metadata": {
        "id": "uf5t5_pIFiHc"
      },
      "outputs": [],
      "source": [
        "# with reference, using style encoder\n",
        "dataframe = pd.read_csv(DATA_PATH, sep=DATA_SEPARETOR, names=DATA_HEADER)\n",
        "emotion_dict ={}\n",
        "speaker_dicts = {}\n",
        "for index, speaker_emotion in dataframe.groupby(\"emotion_id\"):\n",
        "    speaker_dicts={}\n",
        "    for index, row in speaker_emotion.iterrows():\n",
        "        speaker_dicts[index] = (row[\"file_path\"], row[\"emotion_id\"])\n",
        "    emotion_dict[speaker_emotion.iloc[0].emotion_id] = speaker_dicts\n",
        "\n",
        "emotion_embeddings = {}\n",
        "embeddings = []\n",
        "for emotion_idx, data in emotion_dict.items():\n",
        "    _temp_result=compute_style(starganv2, data)\n",
        "    emotion_embeddings[emotion_idx]=_temp_result\n",
        "    embeddings += _temp_result\n",
        "\n",
        "embeddings = [embedding.to(\"cpu\").squeeze(0).tolist() for embedding in embeddings]\n",
        "\n"
      ]
    },
    {
      "cell_type": "markdown",
      "metadata": {},
      "source": [
        "### Lower dimensionality representation\n",
        "\n",
        "1) PCA\n",
        "2) Manyfold MDS"
      ]
    },
    {
      "cell_type": "code",
      "execution_count": 11,
      "metadata": {},
      "outputs": [
        {
          "data": {
            "image/png": "[encoded data removed]",
            "text/plain": [
              "<Figure size 640x480 with 1 Axes>"
            ]
          },
          "metadata": {},
          "output_type": "display_data"
        }
      ],
      "source": [
        "dataframe = pd.read_csv(DATA_PATH, sep=DATA_SEPARETOR, names=DATA_HEADER)\n",
        "pca = PCA(2)\n",
        "df = pca.fit_transform(embeddings)\n",
        "df = pd.DataFrame(df, columns=[\"x_repr\",\"y_repr\"])\n",
        "dataframe_with_embedding = pd.concat([dataframe,df], axis=1)\n",
        "sns.scatterplot(data=dataframe_with_embedding, x=\"x_repr\", y=\"y_repr\", hue=\"emotion_id\", palette=\"deep\")\n",
        "plt.show()"
      ]
    },
    {
      "cell_type": "code",
      "execution_count": 14,
      "metadata": {},
      "outputs": [
        {
          "data": {
            "image/png": "[encoded data removed]",
            "text/plain": [
              "<Figure size 640x480 with 1 Axes>"
            ]
          },
          "metadata": {},
          "output_type": "display_data"
        }
      ],
      "source": [
        "mds = MDS(n_components=2, random_state=4)\n",
        "df = mds.fit_transform(embeddings)\n",
        "df = pd.DataFrame(df, columns=[\"x_repr\",\"y_repr\"])\n",
        "dataframe_with_embedding = pd.concat([dataframe,df], axis=1)\n",
        "sns.scatterplot(data=dataframe_with_embedding, x=\"x_repr\", y=\"y_repr\", hue=\"emotion_id\", palette=\"deep\")\n",
        "plt.show()"
      ]
    }
  ],
  "metadata": {
    "accelerator": "GPU",
    "colab": {
      "collapsed_sections": [
        "SWh3o9hvGvJt"
      ],
      "provenance": []
    },
    "kernelspec": {
      "display_name": "Python 3.8.13 ('stargan')",
      "language": "python",
      "name": "python3"
    },
    "language_info": {
      "codemirror_mode": {
        "name": "ipython",
        "version": 3
      },
      "file_extension": ".py",
      "mimetype": "text/x-python",
      "name": "python",
      "nbconvert_exporter": "python",
      "pygments_lexer": "ipython3",
      "version": "3.8.13"
    },
    "vscode": {
      "interpreter": {
        "hash": "af3ab013e161d7e2071e405d816695dd1dca74efb3c18ca57ddcf9213a3f1219"
      }
    }
  },
  "nbformat": 4,
  "nbformat_minor": 0
}
