{
 "cells": [
  {
   "cell_type": "markdown",
   "metadata": {},
   "source": [
    "# Notebook that download resource from gdrive\n",
    "### Optionally unzip resources"
   ]
  },
  {
   "cell_type": "code",
   "execution_count": null,
   "metadata": {},
   "outputs": [],
   "source": [
    "import gdown"
   ]
  },
  {
   "cell_type": "markdown",
   "metadata": {},
   "source": [
    "### How to define the resources to download?\n",
    "\n",
    "The dictionary `resource_to_download` is structured as follow:\n",
    "- key: the name that the resource will have in the local folder\n",
    "- value: the link of the resource, **note that only the id is \"source dependent\"**"
   ]
  },
  {
   "cell_type": "code",
   "execution_count": null,
   "metadata": {},
   "outputs": [],
   "source": [
    "resource_to_download = {\n",
    "    \"dataset\" : [\"https://drive.google.com/uc?id=1hQqfuvLe03G6Xx4B-t1uuRBbbNG7epCh\"],\n",
    "    \"PreTrainedVocoder\": [\"https://drive.google.com/uc?id=1KoIOJiA4Zywm297uWdk1df9TDBxn-kX3\"]\n",
    "}"
   ]
  },
  {
   "cell_type": "code",
   "execution_count": null,
   "metadata": {},
   "outputs": [],
   "source": [
    "for index, value in resource_to_download.items():\n",
    "    gdown.download(value[0],f\"{index}.zip\")"
   ]
  },
  {
   "cell_type": "markdown",
   "metadata": {},
   "source": [
    "### Uzip resource\n",
    "\n",
    "`ZIP_PATH`: relative path of the zip to be unzipped\n",
    "\n",
    "`DESTIONATION_PATH`: relative path of the destination"
   ]
  },
  {
   "cell_type": "code",
   "execution_count": null,
   "metadata": {},
   "outputs": [],
   "source": [
    "import zipfile\n",
    "\n",
    "ZIP_PATH=\"./dataset.zip\"\n",
    "DESTINATION_PATH=\"./dataset\""
   ]
  },
  {
   "cell_type": "code",
   "execution_count": null,
   "metadata": {},
   "outputs": [],
   "source": [
    "\n",
    "with zipfile.ZipFile(ZIP_PATH, 'r') as zip_ref:\n",
    "    zip_ref.extractall(DESTINATION_PATH)"
   ]
  }
 ],
 "metadata": {
  "kernelspec": {
   "display_name": "Python 3.8.13 ('stargan')",
   "language": "python",
   "name": "python3"
  },
  "language_info": {
   "name": "python",
   "version": "3.8.13"
  },
  "orig_nbformat": 4,
  "vscode": {
   "interpreter": {
    "hash": "af3ab013e161d7e2071e405d816695dd1dca74efb3c18ca57ddcf9213a3f1219"
   }
  }
 },
 "nbformat": 4,
 "nbformat_minor": 2
}
