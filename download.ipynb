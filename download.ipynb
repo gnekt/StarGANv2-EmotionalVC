{
 "cells": [
  {
   "cell_type": "code",
   "execution_count": null,
   "metadata": {},
   "outputs": [],
   "source": [
    "import gdown "
   ]
  },
  {
   "cell_type": "code",
   "execution_count": null,
   "metadata": {},
   "outputs": [],
   "source": [
    "pretrained_model = {\n",
    "    \"dataset\":[\"https://drive.google.com/uc?id=1hQqfuvLe03G6Xx4B-t1uuRBbbNG7epCh\"]\n",
    "}\n",
    "\n",
    "for index, value in pretrained_model.items():\n",
    "    gdown.download(value[0],f\"{index}.zip\")\n",
    "\n",
    "\n",
    "import zipfile\n",
    "with zipfile.ZipFile(\"dataset.zip\", 'r') as zip_ref:\n",
    "    zip_ref.extractall(\"./\")"
   ]
  }
 ],
 "metadata": {
  "kernelspec": {
   "display_name": "Python 3 (ipykernel)",
   "language": "python",
   "name": "python3"
  },
  "orig_nbformat": 4
 },
 "nbformat": 4,
 "nbformat_minor": 2
}
