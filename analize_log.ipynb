{
 "cells": [
  {
   "cell_type": "markdown",
   "metadata": {},
   "source": [
    "# Notebook that parse the log generated from the training procedure and produce human-friendly plot"
   ]
  },
  {
   "cell_type": "markdown",
   "metadata": {},
   "source": [
    "### Load library and set model code"
   ]
  },
  {
   "cell_type": "code",
   "execution_count": 1,
   "metadata": {},
   "outputs": [],
   "source": [
    "import os\n",
    "import sys\n",
    "import pandas as pd\n",
    "import matplotlib.pyplot as plt\n",
    "import seaborn as sns\n",
    "\n",
    "MODEL_CODE='Experiment-1'"
   ]
  },
  {
   "cell_type": "markdown",
   "metadata": {},
   "source": [
    "### Parse log file"
   ]
  },
  {
   "cell_type": "code",
   "execution_count": 2,
   "metadata": {},
   "outputs": [],
   "source": [
    "log_file_path=(os.path.join(f\"./Models/{MODEL_CODE}/train.log\"))\n",
    "\n",
    "assert os.path.exists(log_file_path)\n",
    "epoc_log = open(log_file_path, 'r')\n",
    "_ = epoc_log.readline() # Skip 1st row, i cant manage seek() forgive me :*(|)\n",
    "epoch_counter=1\n",
    "epoch_register=[]\n",
    "for line in epoc_log.readlines():\n",
    "    line = line[30:-1]\n",
    "    if \"-\" in line:\n",
    "        epoch_counter+=1\n",
    "        continue\n",
    "    set_label, value = list(map(lambda element: element.strip(),line.split(\":\")))\n",
    "    set, loss_label = set_label.split(\"/\")\n",
    "    epoch_register.append({\"nr_epoch\":epoch_counter,\"set_name\":set,\"loss_name\":loss_label,\"value\":float(value)})\n",
    "dataframe = pd.DataFrame(epoch_register)"
   ]
  },
  {
   "cell_type": "markdown",
   "metadata": {},
   "source": [
    "### Produce plot"
   ]
  },
  {
   "cell_type": "code",
   "execution_count": 3,
   "metadata": {},
   "outputs": [
    {
     "ename": "ModuleNotFoundError",
     "evalue": "No module named 'seaborn'",
     "output_type": "error",
     "traceback": [
      "\u001b[0;31m---------------------------------------------------------------------------\u001b[0m",
      "\u001b[0;31mModuleNotFoundError\u001b[0m                       Traceback (most recent call last)",
      "Cell \u001b[0;32mIn [3], line 2\u001b[0m\n\u001b[1;32m      1\u001b[0m \u001b[39mimport\u001b[39;00m \u001b[39mmatplotlib\u001b[39;00m\u001b[39m.\u001b[39;00m\u001b[39mpyplot\u001b[39;00m \u001b[39mas\u001b[39;00m \u001b[39mplt\u001b[39;00m\n\u001b[0;32m----> 2\u001b[0m \u001b[39mimport\u001b[39;00m \u001b[39mseaborn\u001b[39;00m \u001b[39mas\u001b[39;00m \u001b[39msns\u001b[39;00m\n\u001b[1;32m      4\u001b[0m \u001b[39mfor\u001b[39;00m index,group \u001b[39min\u001b[39;00m dataframe\u001b[39m.\u001b[39mgroupby([\u001b[39m\"\u001b[39m\u001b[39mset_name\u001b[39m\u001b[39m\"\u001b[39m,\u001b[39m\"\u001b[39m\u001b[39mloss_name\u001b[39m\u001b[39m\"\u001b[39m]):\n\u001b[1;32m      5\u001b[0m     f, ax \u001b[39m=\u001b[39m plt\u001b[39m.\u001b[39msubplots(figsize\u001b[39m=\u001b[39m(\u001b[39m4\u001b[39m,\u001b[39m4\u001b[39m))\n",
      "\u001b[0;31mModuleNotFoundError\u001b[0m: No module named 'seaborn'"
     ]
    }
   ],
   "source": [
    "for index,group in dataframe.groupby([\"set_name\",\"loss_name\"]):\n",
    "    f, ax = plt.subplots(figsize=(4,4))\n",
    "    subgroup = group.sample(n=15)\n",
    "    subgroup=subgroup.sort_values(\"nr_epoch\")\n",
    "    plt.title(f\"Rappresentazione loss {group.iloc[0]['loss_name']}\")\n",
    "    sns.lineplot(data=group,x=\"nr_epoch\",y=\"value\")\n",
    "    plt.show()\n",
    "\n"
   ]
  }
 ],
 "metadata": {
  "kernelspec": {
   "display_name": "Python 3.8.13 ('stargan')",
   "language": "python",
   "name": "python3"
  },
  "language_info": {
   "codemirror_mode": {
    "name": "ipython",
    "version": 3
   },
   "file_extension": ".py",
   "mimetype": "text/x-python",
   "name": "python",
   "nbconvert_exporter": "python",
   "pygments_lexer": "ipython3",
   "version": "3.8.13"
  },
  "orig_nbformat": 4,
  "vscode": {
   "interpreter": {
    "hash": "af3ab013e161d7e2071e405d816695dd1dca74efb3c18ca57ddcf9213a3f1219"
   }
  }
 },
 "nbformat": 4,
 "nbformat_minor": 2
}
