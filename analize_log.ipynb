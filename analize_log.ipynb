{
 "cells": [
  {
   "cell_type": "code",
   "execution_count": null,
   "metadata": {},
   "outputs": [],
   "source": [
    "### Analyze log predefined in the model\n",
    "import os\n",
    "import pandas as pd\n",
    "\n",
    "nr_of_epoch_start = 40\n",
    "epoch_info_start = 30\n",
    "log_file_path = \"./Models/Experiment-3/train.log\"\n"
   ]
  },
  {
   "cell_type": "code",
   "execution_count": null,
   "metadata": {},
   "outputs": [],
   "source": [
    "assert os.path.exists(log_file_path)\n",
    "epoc_log = open(log_file_path, 'r')\n",
    "_ = epoc_log.readline() # Skip 1st row, i cant manage seek() forgive me :*(|)\n",
    "epoch_counter=1\n",
    "epoch_register=[]\n",
    "for line in epoc_log.readlines():\n",
    "    line = line[30:-1]\n",
    "    if \"-\" in line:\n",
    "        epoch_counter+=1\n",
    "        continue\n",
    "    set_label, value = list(map(lambda element: element.strip(),line.split(\":\")))\n",
    "    set, loss_label = set_label.split(\"/\")\n",
    "    epoch_register.append({\"nr_epoch\":epoch_counter,\"set_name\":set,\"loss_name\":loss_label,\"value\":float(value)})\n",
    "dataframe = pd.DataFrame(epoch_register)"
   ]
  },
  {
   "cell_type": "code",
   "execution_count": null,
   "metadata": {},
   "outputs": [],
   "source": [
    "import matplotlib.pyplot as plt\n",
    "import seaborn as sns\n",
    "\n",
    "for index,group in dataframe.groupby([\"set_name\",\"loss_name\"]):\n",
    "    f, ax = plt.subplots(figsize=(4,4))\n",
    "    subgroup = group.sample(n=15)\n",
    "    subgroup=subgroup.sort_values(\"nr_epoch\")\n",
    "    plt.title(f\"Rappresentazione loss {group.iloc[0]['loss_name']}\")\n",
    "    sns.lineplot(data=group,x=\"nr_epoch\",y=\"value\")\n",
    "    plt.show()\n",
    "\n"
   ]
  },
  {
   "cell_type": "code",
   "execution_count": null,
   "metadata": {},
   "outputs": [],
   "source": []
  }
 ],
 "metadata": {
  "kernelspec": {
   "display_name": "Python 3.8.13 ('stargan')",
   "language": "python",
   "name": "python3"
  },
  "language_info": {
   "codemirror_mode": {
    "name": "ipython",
    "version": 3
   },
   "file_extension": ".py",
   "mimetype": "text/x-python",
   "name": "python",
   "nbconvert_exporter": "python",
   "pygments_lexer": "ipython3",
   "version": "3.8.13"
  },
  "orig_nbformat": 4,
  "vscode": {
   "interpreter": {
    "hash": "af3ab013e161d7e2071e405d816695dd1dca74efb3c18ca57ddcf9213a3f1219"
   }
  }
 },
 "nbformat": 4,
 "nbformat_minor": 2
}
