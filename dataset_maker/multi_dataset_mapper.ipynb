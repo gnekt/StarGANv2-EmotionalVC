{
 "cells": [
  {
   "cell_type": "code",
   "execution_count": 4,
   "metadata": {},
   "outputs": [],
   "source": [
    "from json import load\n",
    "\n",
    "with open(\"mappa.json\",\"r\") as file_configurazione:\n",
    "    mappa_conversione = load(file_configurazione)"
   ]
  },
  {
   "cell_type": "markdown",
   "metadata": {},
   "source": [
    "Trasforma RAVDESS da formato per SER a formato comodo per EVC"
   ]
  },
  {
   "cell_type": "code",
   "execution_count": 5,
   "metadata": {},
   "outputs": [],
   "source": [
    "\n",
    "with open(\"./eng/RAVDESS/file.txt\",\"r\") as contenitore_path_file:\n",
    "    files = contenitore_path_file.readlines()\n",
    "\n",
    "emozioni = mappa_conversione[\"datasets\"][0][\"parametri\"][\"emozione\"][\"conversione\"]\n",
    "dataset = open(\"./eng/ravdess.csv\",\"w\")\n",
    "dataset.write(\"dataset;lang;path;actor_id;gender;emotion;statement_id\\n\")\n",
    "for file in files:\n",
    "    corpo_utile = file.split(\".\")[0].split(\"_\")[-1]\n",
    "    id_attore = corpo_utile.split(\"-\")[mappa_conversione[\"datasets\"][0][\"parametri\"][\"attore\"][\"posizione\"]]\n",
    "    try:\n",
    "        emozione = emozioni[corpo_utile.split(\"-\")[mappa_conversione[\"datasets\"][0][\"parametri\"][\"emozione\"][\"posizione\"]]]\n",
    "    except KeyError:\n",
    "        continue\n",
    "    sesso = file.split(\"_\")[mappa_conversione[\"datasets\"][0][\"parametri\"][\"sesso\"][\"posizione\"]].lower()\n",
    "    id_testo = corpo_utile.split(\"-\")[mappa_conversione[\"datasets\"][0][\"parametri\"][\"testo\"][\"posizione\"]]\n",
    "    dataset.write(f\"ravdess;en;./eng/RAVDESS/{file.strip()};{id_attore};{sesso};{emozione};{id_testo}\\n\")\n",
    "dataset.close()\n",
    "    "
   ]
  },
  {
   "cell_type": "markdown",
   "metadata": {},
   "source": [
    "Trasforma SAVEE da formato SER a formato per EVC"
   ]
  },
  {
   "cell_type": "code",
   "execution_count": 6,
   "metadata": {},
   "outputs": [],
   "source": [
    "with open(\"./eng/SAVEE/file.txt\",\"r\") as contenitore_path_file:\n",
    "    files = contenitore_path_file.readlines()\n",
    "\n",
    "emozioni = mappa_conversione[\"datasets\"][1][\"parametri\"][\"emozione\"][\"conversione\"]\n",
    "separatore = mappa_conversione[\"datasets\"][1][\"separatore\"]\n",
    "parametri = mappa_conversione[\"datasets\"][1][\"parametri\"]\n",
    "dataset = open(\"./eng/savee.csv\",\"w\")\n",
    "dataset.write(\"dataset;lang;path;actor_id;gender;emotion;statement_id\\n\")\n",
    "for file in files:\n",
    "    corpo_utile = file.split(\".\")[0]\n",
    "    sesso = corpo_utile.split(separatore)[parametri[\"sesso\"][\"posizione\"]].lower()\n",
    "    id_attore = corpo_utile.split(separatore)[parametri[\"attore\"][\"posizione\"]]\n",
    "    try:\n",
    "        emozione = emozioni[corpo_utile.split(separatore)[parametri[\"emozione\"][\"posizione\"]]]\n",
    "    except KeyError:\n",
    "        continue\n",
    "    id_testo = corpo_utile.split(separatore)[parametri[\"testo\"][\"posizione\"]][1:]\n",
    "    dataset.write(f\"savee;en;./eng/SAVEE/{file.strip()};{id_attore};{sesso};{emozione};{id_testo}\\n\")\n",
    "dataset.close()"
   ]
  },
  {
   "cell_type": "markdown",
   "metadata": {},
   "source": [
    "Trasforma ECARINI da formato SER a formato comodo per EVC"
   ]
  },
  {
   "cell_type": "code",
   "execution_count": 7,
   "metadata": {},
   "outputs": [],
   "source": [
    "with open(\"./ita/ECARINI/file.txt\",\"r\") as contenitore_path_file:\n",
    "    files = contenitore_path_file.readlines()\n",
    "\n",
    "emozioni = mappa_conversione[\"datasets\"][2][\"parametri\"][\"emozione\"][\"conversione\"]\n",
    "separatore = mappa_conversione[\"datasets\"][2][\"separatore\"]\n",
    "parametri = mappa_conversione[\"datasets\"][2][\"parametri\"]\n",
    "dataset = open(\"./ita/ecarini.csv\",\"w\")\n",
    "dataset.write(\"dataset;lang;path;actor_id;gender;emotion;statement_id\\n\")\n",
    "for file in files:\n",
    "    corpo_utile = file.split(\".\")[0]\n",
    "    id_attore = corpo_utile.split(separatore)[parametri[\"attore\"][\"posizione\"]]\n",
    "    sesso = corpo_utile.split(separatore)[parametri[\"sesso\"][\"posizione\"]].lower()\n",
    "    try:\n",
    "        emozione = emozioni[corpo_utile.split(separatore)[parametri[\"emozione\"][\"posizione\"]]]\n",
    "    except KeyError:\n",
    "        continue\n",
    "    id_testo = corpo_utile.split(separatore)[parametri[\"testo\"][\"posizione\"]][3:]\n",
    "    dataset.write(f\"ecarini;it;./ita/ECARINI/{file.strip()};{id_attore};{sesso};{emozione};{id_testo}\\n\")\n",
    "dataset.close()"
   ]
  },
  {
   "cell_type": "markdown",
   "metadata": {},
   "source": [
    "Trasforma ESD da formato Standard a formato comodo per EVC"
   ]
  },
  {
   "cell_type": "code",
   "execution_count": 8,
   "metadata": {},
   "outputs": [
    {
     "ename": "KeyboardInterrupt",
     "evalue": "",
     "output_type": "error",
     "traceback": [
      "\u001b[0;31m---------------------------------------------------------------------------\u001b[0m",
      "\u001b[0;31mKeyboardInterrupt\u001b[0m                         Traceback (most recent call last)",
      "Cell \u001b[0;32mIn [8], line 35\u001b[0m\n\u001b[1;32m     32\u001b[0m     actor_take\u001b[39m=\u001b[39mactor_take\u001b[39m.\u001b[39mdrop(\u001b[39m\"\u001b[39m\u001b[39minfo\u001b[39m\u001b[39m\"\u001b[39m, axis\u001b[39m=\u001b[39m\u001b[39m1\u001b[39m)\n\u001b[1;32m     33\u001b[0m     dataframe \u001b[39m=\u001b[39m pd\u001b[39m.\u001b[39mconcat([dataframe,actor_take], axis\u001b[39m=\u001b[39m\u001b[39m0\u001b[39m)\n\u001b[0;32m---> 35\u001b[0m dataframe\u001b[39m.\u001b[39;49mto_csv(\u001b[39m\"\u001b[39;49m\u001b[39m./eng/esd.csv\u001b[39;49m\u001b[39m\"\u001b[39;49m,sep\u001b[39m=\u001b[39;49m\u001b[39m\"\u001b[39;49m\u001b[39m;\u001b[39;49m\u001b[39m\"\u001b[39;49m,index\u001b[39m=\u001b[39;49m\u001b[39mFalse\u001b[39;49;00m,columns\u001b[39m=\u001b[39;49m[\u001b[39m\"\u001b[39;49m\u001b[39mdataset\u001b[39;49m\u001b[39m\"\u001b[39;49m,\u001b[39m\"\u001b[39;49m\u001b[39mlang\u001b[39;49m\u001b[39m\"\u001b[39;49m,\u001b[39m\"\u001b[39;49m\u001b[39mpath\u001b[39;49m\u001b[39m\"\u001b[39;49m,\u001b[39m\"\u001b[39;49m\u001b[39mactor_id\u001b[39;49m\u001b[39m\"\u001b[39;49m,\u001b[39m\"\u001b[39;49m\u001b[39mgender\u001b[39;49m\u001b[39m\"\u001b[39;49m,\u001b[39m\"\u001b[39;49m\u001b[39memotion\u001b[39;49m\u001b[39m\"\u001b[39;49m,\u001b[39m\"\u001b[39;49m\u001b[39mstatement_id\u001b[39;49m\u001b[39m\"\u001b[39;49m])\n\u001b[1;32m     36\u001b[0m dataset\u001b[39m.\u001b[39mclose()\n",
      "File \u001b[0;32m~/miniconda3/envs/tesi/lib/python3.9/site-packages/pandas/util/_decorators.py:211\u001b[0m, in \u001b[0;36mdeprecate_kwarg.<locals>._deprecate_kwarg.<locals>.wrapper\u001b[0;34m(*args, **kwargs)\u001b[0m\n\u001b[1;32m    209\u001b[0m     \u001b[39melse\u001b[39;00m:\n\u001b[1;32m    210\u001b[0m         kwargs[new_arg_name] \u001b[39m=\u001b[39m new_arg_value\n\u001b[0;32m--> 211\u001b[0m \u001b[39mreturn\u001b[39;00m func(\u001b[39m*\u001b[39;49margs, \u001b[39m*\u001b[39;49m\u001b[39m*\u001b[39;49mkwargs)\n",
      "File \u001b[0;32m~/miniconda3/envs/tesi/lib/python3.9/site-packages/pandas/core/generic.py:3720\u001b[0m, in \u001b[0;36mNDFrame.to_csv\u001b[0;34m(self, path_or_buf, sep, na_rep, float_format, columns, header, index, index_label, mode, encoding, compression, quoting, quotechar, lineterminator, chunksize, date_format, doublequote, escapechar, decimal, errors, storage_options)\u001b[0m\n\u001b[1;32m   3709\u001b[0m df \u001b[39m=\u001b[39m \u001b[39mself\u001b[39m \u001b[39mif\u001b[39;00m \u001b[39misinstance\u001b[39m(\u001b[39mself\u001b[39m, ABCDataFrame) \u001b[39melse\u001b[39;00m \u001b[39mself\u001b[39m\u001b[39m.\u001b[39mto_frame()\n\u001b[1;32m   3711\u001b[0m formatter \u001b[39m=\u001b[39m DataFrameFormatter(\n\u001b[1;32m   3712\u001b[0m     frame\u001b[39m=\u001b[39mdf,\n\u001b[1;32m   3713\u001b[0m     header\u001b[39m=\u001b[39mheader,\n\u001b[0;32m   (...)\u001b[0m\n\u001b[1;32m   3717\u001b[0m     decimal\u001b[39m=\u001b[39mdecimal,\n\u001b[1;32m   3718\u001b[0m )\n\u001b[0;32m-> 3720\u001b[0m \u001b[39mreturn\u001b[39;00m DataFrameRenderer(formatter)\u001b[39m.\u001b[39;49mto_csv(\n\u001b[1;32m   3721\u001b[0m     path_or_buf,\n\u001b[1;32m   3722\u001b[0m     lineterminator\u001b[39m=\u001b[39;49mlineterminator,\n\u001b[1;32m   3723\u001b[0m     sep\u001b[39m=\u001b[39;49msep,\n\u001b[1;32m   3724\u001b[0m     encoding\u001b[39m=\u001b[39;49mencoding,\n\u001b[1;32m   3725\u001b[0m     errors\u001b[39m=\u001b[39;49merrors,\n\u001b[1;32m   3726\u001b[0m     compression\u001b[39m=\u001b[39;49mcompression,\n\u001b[1;32m   3727\u001b[0m     quoting\u001b[39m=\u001b[39;49mquoting,\n\u001b[1;32m   3728\u001b[0m     columns\u001b[39m=\u001b[39;49mcolumns,\n\u001b[1;32m   3729\u001b[0m     index_label\u001b[39m=\u001b[39;49mindex_label,\n\u001b[1;32m   3730\u001b[0m     mode\u001b[39m=\u001b[39;49mmode,\n\u001b[1;32m   3731\u001b[0m     chunksize\u001b[39m=\u001b[39;49mchunksize,\n\u001b[1;32m   3732\u001b[0m     quotechar\u001b[39m=\u001b[39;49mquotechar,\n\u001b[1;32m   3733\u001b[0m     date_format\u001b[39m=\u001b[39;49mdate_format,\n\u001b[1;32m   3734\u001b[0m     doublequote\u001b[39m=\u001b[39;49mdoublequote,\n\u001b[1;32m   3735\u001b[0m     escapechar\u001b[39m=\u001b[39;49mescapechar,\n\u001b[1;32m   3736\u001b[0m     storage_options\u001b[39m=\u001b[39;49mstorage_options,\n\u001b[1;32m   3737\u001b[0m )\n",
      "File \u001b[0;32m~/miniconda3/envs/tesi/lib/python3.9/site-packages/pandas/util/_decorators.py:211\u001b[0m, in \u001b[0;36mdeprecate_kwarg.<locals>._deprecate_kwarg.<locals>.wrapper\u001b[0;34m(*args, **kwargs)\u001b[0m\n\u001b[1;32m    209\u001b[0m     \u001b[39melse\u001b[39;00m:\n\u001b[1;32m    210\u001b[0m         kwargs[new_arg_name] \u001b[39m=\u001b[39m new_arg_value\n\u001b[0;32m--> 211\u001b[0m \u001b[39mreturn\u001b[39;00m func(\u001b[39m*\u001b[39;49margs, \u001b[39m*\u001b[39;49m\u001b[39m*\u001b[39;49mkwargs)\n",
      "File \u001b[0;32m~/miniconda3/envs/tesi/lib/python3.9/site-packages/pandas/io/formats/format.py:1170\u001b[0m, in \u001b[0;36mDataFrameRenderer.to_csv\u001b[0;34m(self, path_or_buf, encoding, sep, columns, index_label, mode, compression, quoting, quotechar, lineterminator, chunksize, date_format, doublequote, escapechar, errors, storage_options)\u001b[0m\n\u001b[1;32m   1167\u001b[0m \u001b[39melse\u001b[39;00m:\n\u001b[1;32m   1168\u001b[0m     created_buffer \u001b[39m=\u001b[39m \u001b[39mFalse\u001b[39;00m\n\u001b[0;32m-> 1170\u001b[0m csv_formatter \u001b[39m=\u001b[39m CSVFormatter(\n\u001b[1;32m   1171\u001b[0m     path_or_buf\u001b[39m=\u001b[39;49mpath_or_buf,\n\u001b[1;32m   1172\u001b[0m     lineterminator\u001b[39m=\u001b[39;49mlineterminator,\n\u001b[1;32m   1173\u001b[0m     sep\u001b[39m=\u001b[39;49msep,\n\u001b[1;32m   1174\u001b[0m     encoding\u001b[39m=\u001b[39;49mencoding,\n\u001b[1;32m   1175\u001b[0m     errors\u001b[39m=\u001b[39;49merrors,\n\u001b[1;32m   1176\u001b[0m     compression\u001b[39m=\u001b[39;49mcompression,\n\u001b[1;32m   1177\u001b[0m     quoting\u001b[39m=\u001b[39;49mquoting,\n\u001b[1;32m   1178\u001b[0m     cols\u001b[39m=\u001b[39;49mcolumns,\n\u001b[1;32m   1179\u001b[0m     index_label\u001b[39m=\u001b[39;49mindex_label,\n\u001b[1;32m   1180\u001b[0m     mode\u001b[39m=\u001b[39;49mmode,\n\u001b[1;32m   1181\u001b[0m     chunksize\u001b[39m=\u001b[39;49mchunksize,\n\u001b[1;32m   1182\u001b[0m     quotechar\u001b[39m=\u001b[39;49mquotechar,\n\u001b[1;32m   1183\u001b[0m     date_format\u001b[39m=\u001b[39;49mdate_format,\n\u001b[1;32m   1184\u001b[0m     doublequote\u001b[39m=\u001b[39;49mdoublequote,\n\u001b[1;32m   1185\u001b[0m     escapechar\u001b[39m=\u001b[39;49mescapechar,\n\u001b[1;32m   1186\u001b[0m     storage_options\u001b[39m=\u001b[39;49mstorage_options,\n\u001b[1;32m   1187\u001b[0m     formatter\u001b[39m=\u001b[39;49m\u001b[39mself\u001b[39;49m\u001b[39m.\u001b[39;49mfmt,\n\u001b[1;32m   1188\u001b[0m )\n\u001b[1;32m   1189\u001b[0m csv_formatter\u001b[39m.\u001b[39msave()\n\u001b[1;32m   1191\u001b[0m \u001b[39mif\u001b[39;00m created_buffer:\n",
      "File \u001b[0;32m~/miniconda3/envs/tesi/lib/python3.9/site-packages/pandas/io/formats/csvs.py:89\u001b[0m, in \u001b[0;36mCSVFormatter.__init__\u001b[0;34m(self, formatter, path_or_buf, sep, cols, index_label, mode, encoding, errors, compression, quoting, lineterminator, chunksize, quotechar, date_format, doublequote, escapechar, storage_options)\u001b[0m\n\u001b[1;32m     87\u001b[0m \u001b[39mself\u001b[39m\u001b[39m.\u001b[39mlineterminator \u001b[39m=\u001b[39m lineterminator \u001b[39mor\u001b[39;00m os\u001b[39m.\u001b[39mlinesep\n\u001b[1;32m     88\u001b[0m \u001b[39mself\u001b[39m\u001b[39m.\u001b[39mdate_format \u001b[39m=\u001b[39m date_format\n\u001b[0;32m---> 89\u001b[0m \u001b[39mself\u001b[39m\u001b[39m.\u001b[39mcols \u001b[39m=\u001b[39m \u001b[39mself\u001b[39;49m\u001b[39m.\u001b[39;49m_initialize_columns(cols)\n\u001b[1;32m     90\u001b[0m \u001b[39mself\u001b[39m\u001b[39m.\u001b[39mchunksize \u001b[39m=\u001b[39m \u001b[39mself\u001b[39m\u001b[39m.\u001b[39m_initialize_chunksize(chunksize)\n",
      "File \u001b[0;32m~/miniconda3/envs/tesi/lib/python3.9/site-packages/pandas/io/formats/csvs.py:156\u001b[0m, in \u001b[0;36mCSVFormatter._initialize_columns\u001b[0;34m(self, cols)\u001b[0m\n\u001b[1;32m    154\u001b[0m     \u001b[39melse\u001b[39;00m:\n\u001b[1;32m    155\u001b[0m         cols \u001b[39m=\u001b[39m \u001b[39mlist\u001b[39m(cols)\n\u001b[0;32m--> 156\u001b[0m     \u001b[39mself\u001b[39m\u001b[39m.\u001b[39mobj \u001b[39m=\u001b[39m \u001b[39mself\u001b[39;49m\u001b[39m.\u001b[39;49mobj\u001b[39m.\u001b[39;49mloc[:, cols]\n\u001b[1;32m    158\u001b[0m \u001b[39m# update columns to include possible multiplicity of dupes\u001b[39;00m\n\u001b[1;32m    159\u001b[0m \u001b[39m# and make sure cols is just a list of labels\u001b[39;00m\n\u001b[1;32m    160\u001b[0m new_cols \u001b[39m=\u001b[39m \u001b[39mself\u001b[39m\u001b[39m.\u001b[39mobj\u001b[39m.\u001b[39mcolumns\n",
      "File \u001b[0;32m~/miniconda3/envs/tesi/lib/python3.9/site-packages/pandas/core/indexing.py:1067\u001b[0m, in \u001b[0;36m_LocationIndexer.__getitem__\u001b[0;34m(self, key)\u001b[0m\n\u001b[1;32m   1065\u001b[0m     \u001b[39mif\u001b[39;00m \u001b[39mself\u001b[39m\u001b[39m.\u001b[39m_is_scalar_access(key):\n\u001b[1;32m   1066\u001b[0m         \u001b[39mreturn\u001b[39;00m \u001b[39mself\u001b[39m\u001b[39m.\u001b[39mobj\u001b[39m.\u001b[39m_get_value(\u001b[39m*\u001b[39mkey, takeable\u001b[39m=\u001b[39m\u001b[39mself\u001b[39m\u001b[39m.\u001b[39m_takeable)\n\u001b[0;32m-> 1067\u001b[0m     \u001b[39mreturn\u001b[39;00m \u001b[39mself\u001b[39;49m\u001b[39m.\u001b[39;49m_getitem_tuple(key)\n\u001b[1;32m   1068\u001b[0m \u001b[39melse\u001b[39;00m:\n\u001b[1;32m   1069\u001b[0m     \u001b[39m# we by definition only have the 0th axis\u001b[39;00m\n\u001b[1;32m   1070\u001b[0m     axis \u001b[39m=\u001b[39m \u001b[39mself\u001b[39m\u001b[39m.\u001b[39maxis \u001b[39mor\u001b[39;00m \u001b[39m0\u001b[39m\n",
      "File \u001b[0;32m~/miniconda3/envs/tesi/lib/python3.9/site-packages/pandas/core/indexing.py:1256\u001b[0m, in \u001b[0;36m_LocIndexer._getitem_tuple\u001b[0;34m(self, tup)\u001b[0m\n\u001b[1;32m   1253\u001b[0m \u001b[39mif\u001b[39;00m \u001b[39mself\u001b[39m\u001b[39m.\u001b[39m_multi_take_opportunity(tup):\n\u001b[1;32m   1254\u001b[0m     \u001b[39mreturn\u001b[39;00m \u001b[39mself\u001b[39m\u001b[39m.\u001b[39m_multi_take(tup)\n\u001b[0;32m-> 1256\u001b[0m \u001b[39mreturn\u001b[39;00m \u001b[39mself\u001b[39;49m\u001b[39m.\u001b[39;49m_getitem_tuple_same_dim(tup)\n",
      "File \u001b[0;32m~/miniconda3/envs/tesi/lib/python3.9/site-packages/pandas/core/indexing.py:924\u001b[0m, in \u001b[0;36m_LocationIndexer._getitem_tuple_same_dim\u001b[0;34m(self, tup)\u001b[0m\n\u001b[1;32m    921\u001b[0m \u001b[39mif\u001b[39;00m com\u001b[39m.\u001b[39mis_null_slice(key):\n\u001b[1;32m    922\u001b[0m     \u001b[39mcontinue\u001b[39;00m\n\u001b[0;32m--> 924\u001b[0m retval \u001b[39m=\u001b[39m \u001b[39mgetattr\u001b[39;49m(retval, \u001b[39mself\u001b[39;49m\u001b[39m.\u001b[39;49mname)\u001b[39m.\u001b[39;49m_getitem_axis(key, axis\u001b[39m=\u001b[39;49mi)\n\u001b[1;32m    925\u001b[0m \u001b[39m# We should never have retval.ndim < self.ndim, as that should\u001b[39;00m\n\u001b[1;32m    926\u001b[0m \u001b[39m#  be handled by the _getitem_lowerdim call above.\u001b[39;00m\n\u001b[1;32m    927\u001b[0m \u001b[39massert\u001b[39;00m retval\u001b[39m.\u001b[39mndim \u001b[39m==\u001b[39m \u001b[39mself\u001b[39m\u001b[39m.\u001b[39mndim\n",
      "File \u001b[0;32m~/miniconda3/envs/tesi/lib/python3.9/site-packages/pandas/core/indexing.py:1301\u001b[0m, in \u001b[0;36m_LocIndexer._getitem_axis\u001b[0;34m(self, key, axis)\u001b[0m\n\u001b[1;32m   1298\u001b[0m     \u001b[39mif\u001b[39;00m \u001b[39mhasattr\u001b[39m(key, \u001b[39m\"\u001b[39m\u001b[39mndim\u001b[39m\u001b[39m\"\u001b[39m) \u001b[39mand\u001b[39;00m key\u001b[39m.\u001b[39mndim \u001b[39m>\u001b[39m \u001b[39m1\u001b[39m:\n\u001b[1;32m   1299\u001b[0m         \u001b[39mraise\u001b[39;00m \u001b[39mValueError\u001b[39;00m(\u001b[39m\"\u001b[39m\u001b[39mCannot index with multidimensional key\u001b[39m\u001b[39m\"\u001b[39m)\n\u001b[0;32m-> 1301\u001b[0m     \u001b[39mreturn\u001b[39;00m \u001b[39mself\u001b[39;49m\u001b[39m.\u001b[39;49m_getitem_iterable(key, axis\u001b[39m=\u001b[39;49maxis)\n\u001b[1;32m   1303\u001b[0m \u001b[39m# nested tuple slicing\u001b[39;00m\n\u001b[1;32m   1304\u001b[0m \u001b[39mif\u001b[39;00m is_nested_tuple(key, labels):\n",
      "File \u001b[0;32m~/miniconda3/envs/tesi/lib/python3.9/site-packages/pandas/core/indexing.py:1239\u001b[0m, in \u001b[0;36m_LocIndexer._getitem_iterable\u001b[0;34m(self, key, axis)\u001b[0m\n\u001b[1;32m   1236\u001b[0m \u001b[39mself\u001b[39m\u001b[39m.\u001b[39m_validate_key(key, axis)\n\u001b[1;32m   1238\u001b[0m \u001b[39m# A collection of keys\u001b[39;00m\n\u001b[0;32m-> 1239\u001b[0m keyarr, indexer \u001b[39m=\u001b[39m \u001b[39mself\u001b[39;49m\u001b[39m.\u001b[39;49m_get_listlike_indexer(key, axis)\n\u001b[1;32m   1240\u001b[0m \u001b[39mreturn\u001b[39;00m \u001b[39mself\u001b[39m\u001b[39m.\u001b[39mobj\u001b[39m.\u001b[39m_reindex_with_indexers(\n\u001b[1;32m   1241\u001b[0m     {axis: [keyarr, indexer]}, copy\u001b[39m=\u001b[39m\u001b[39mTrue\u001b[39;00m, allow_dups\u001b[39m=\u001b[39m\u001b[39mTrue\u001b[39;00m\n\u001b[1;32m   1242\u001b[0m )\n",
      "File \u001b[0;32m~/miniconda3/envs/tesi/lib/python3.9/site-packages/pandas/core/indexing.py:1432\u001b[0m, in \u001b[0;36m_LocIndexer._get_listlike_indexer\u001b[0;34m(self, key, axis)\u001b[0m\n\u001b[1;32m   1429\u001b[0m ax \u001b[39m=\u001b[39m \u001b[39mself\u001b[39m\u001b[39m.\u001b[39mobj\u001b[39m.\u001b[39m_get_axis(axis)\n\u001b[1;32m   1430\u001b[0m axis_name \u001b[39m=\u001b[39m \u001b[39mself\u001b[39m\u001b[39m.\u001b[39mobj\u001b[39m.\u001b[39m_get_axis_name(axis)\n\u001b[0;32m-> 1432\u001b[0m keyarr, indexer \u001b[39m=\u001b[39m ax\u001b[39m.\u001b[39;49m_get_indexer_strict(key, axis_name)\n\u001b[1;32m   1434\u001b[0m \u001b[39mreturn\u001b[39;00m keyarr, indexer\n",
      "File \u001b[0;32m~/miniconda3/envs/tesi/lib/python3.9/site-packages/pandas/core/indexes/base.py:6106\u001b[0m, in \u001b[0;36mIndex._get_indexer_strict\u001b[0;34m(self, key, axis_name)\u001b[0m\n\u001b[1;32m   6103\u001b[0m     keyarr \u001b[39m=\u001b[39m com\u001b[39m.\u001b[39masarray_tuplesafe(keyarr)\n\u001b[1;32m   6105\u001b[0m \u001b[39mif\u001b[39;00m \u001b[39mself\u001b[39m\u001b[39m.\u001b[39m_index_as_unique:\n\u001b[0;32m-> 6106\u001b[0m     indexer \u001b[39m=\u001b[39m \u001b[39mself\u001b[39;49m\u001b[39m.\u001b[39;49mget_indexer_for(keyarr)\n\u001b[1;32m   6107\u001b[0m     keyarr \u001b[39m=\u001b[39m \u001b[39mself\u001b[39m\u001b[39m.\u001b[39mreindex(keyarr)[\u001b[39m0\u001b[39m]\n\u001b[1;32m   6108\u001b[0m \u001b[39melse\u001b[39;00m:\n",
      "File \u001b[0;32m~/miniconda3/envs/tesi/lib/python3.9/site-packages/pandas/core/indexes/base.py:6093\u001b[0m, in \u001b[0;36mIndex.get_indexer_for\u001b[0;34m(self, target)\u001b[0m\n\u001b[1;32m   6075\u001b[0m \u001b[39m\"\"\"\u001b[39;00m\n\u001b[1;32m   6076\u001b[0m \u001b[39mGuaranteed return of an indexer even when non-unique.\u001b[39;00m\n\u001b[1;32m   6077\u001b[0m \n\u001b[0;32m   (...)\u001b[0m\n\u001b[1;32m   6090\u001b[0m \u001b[39marray([0, 2])\u001b[39;00m\n\u001b[1;32m   6091\u001b[0m \u001b[39m\"\"\"\u001b[39;00m\n\u001b[1;32m   6092\u001b[0m \u001b[39mif\u001b[39;00m \u001b[39mself\u001b[39m\u001b[39m.\u001b[39m_index_as_unique:\n\u001b[0;32m-> 6093\u001b[0m     \u001b[39mreturn\u001b[39;00m \u001b[39mself\u001b[39;49m\u001b[39m.\u001b[39;49mget_indexer(target)\n\u001b[1;32m   6094\u001b[0m indexer, _ \u001b[39m=\u001b[39m \u001b[39mself\u001b[39m\u001b[39m.\u001b[39mget_indexer_non_unique(target)\n\u001b[1;32m   6095\u001b[0m \u001b[39mreturn\u001b[39;00m indexer\n",
      "File \u001b[0;32m~/miniconda3/envs/tesi/lib/python3.9/site-packages/pandas/core/indexes/base.py:3907\u001b[0m, in \u001b[0;36mIndex.get_indexer\u001b[0;34m(self, target, method, limit, tolerance)\u001b[0m\n\u001b[1;32m   3904\u001b[0m \u001b[39mif\u001b[39;00m \u001b[39mnot\u001b[39;00m \u001b[39mself\u001b[39m\u001b[39m.\u001b[39m_index_as_unique:\n\u001b[1;32m   3905\u001b[0m     \u001b[39mraise\u001b[39;00m InvalidIndexError(\u001b[39mself\u001b[39m\u001b[39m.\u001b[39m_requires_unique_msg)\n\u001b[0;32m-> 3907\u001b[0m \u001b[39mif\u001b[39;00m \u001b[39mlen\u001b[39;49m(target) \u001b[39m==\u001b[39m \u001b[39m0\u001b[39m:\n\u001b[1;32m   3908\u001b[0m     \u001b[39mreturn\u001b[39;00m np\u001b[39m.\u001b[39marray([], dtype\u001b[39m=\u001b[39mnp\u001b[39m.\u001b[39mintp)\n\u001b[1;32m   3910\u001b[0m \u001b[39mif\u001b[39;00m \u001b[39mnot\u001b[39;00m \u001b[39mself\u001b[39m\u001b[39m.\u001b[39m_should_compare(target) \u001b[39mand\u001b[39;00m \u001b[39mnot\u001b[39;00m \u001b[39mself\u001b[39m\u001b[39m.\u001b[39m_should_partial_index(target):\n\u001b[1;32m   3911\u001b[0m     \u001b[39m# IntervalIndex get special treatment bc numeric scalars can be\u001b[39;00m\n\u001b[1;32m   3912\u001b[0m     \u001b[39m#  matched to Interval scalars\u001b[39;00m\n",
      "File \u001b[0;32m~/miniconda3/envs/tesi/lib/python3.9/site-packages/pandas/core/indexes/base.py:926\u001b[0m, in \u001b[0;36mIndex.__len__\u001b[0;34m(self)\u001b[0m\n\u001b[1;32m    916\u001b[0m     \u001b[39mreturn\u001b[39;00m {\n\u001b[1;32m    917\u001b[0m         c\n\u001b[1;32m    918\u001b[0m         \u001b[39mfor\u001b[39;00m c \u001b[39min\u001b[39;00m \u001b[39mself\u001b[39m\u001b[39m.\u001b[39munique(level\u001b[39m=\u001b[39m\u001b[39m0\u001b[39m)[: get_option(\u001b[39m\"\u001b[39m\u001b[39mdisplay.max_dir_items\u001b[39m\u001b[39m\"\u001b[39m)]\n\u001b[1;32m    919\u001b[0m         \u001b[39mif\u001b[39;00m \u001b[39misinstance\u001b[39m(c, \u001b[39mstr\u001b[39m) \u001b[39mand\u001b[39;00m c\u001b[39m.\u001b[39misidentifier()\n\u001b[1;32m    920\u001b[0m     }\n\u001b[1;32m    922\u001b[0m \u001b[39m# --------------------------------------------------------------------\u001b[39;00m\n\u001b[1;32m    923\u001b[0m \u001b[39m# Array-Like Methods\u001b[39;00m\n\u001b[1;32m    924\u001b[0m \n\u001b[1;32m    925\u001b[0m \u001b[39m# ndarray compat\u001b[39;00m\n\u001b[0;32m--> 926\u001b[0m \u001b[39mdef\u001b[39;00m \u001b[39m__len__\u001b[39m(\u001b[39mself\u001b[39m) \u001b[39m-\u001b[39m\u001b[39m>\u001b[39m \u001b[39mint\u001b[39m:\n\u001b[1;32m    927\u001b[0m     \u001b[39m\"\"\"\u001b[39;00m\n\u001b[1;32m    928\u001b[0m \u001b[39m    Return the length of the Index.\u001b[39;00m\n\u001b[1;32m    929\u001b[0m \u001b[39m    \"\"\"\u001b[39;00m\n\u001b[1;32m    930\u001b[0m     \u001b[39mreturn\u001b[39;00m \u001b[39mlen\u001b[39m(\u001b[39mself\u001b[39m\u001b[39m.\u001b[39m_data)\n",
      "\u001b[0;31mKeyboardInterrupt\u001b[0m: "
     ]
    }
   ],
   "source": [
    "import pandas as pd \n",
    "import os \n",
    "import codecs\n",
    "emozioni = mappa_conversione[\"datasets\"][3][\"parametri\"][\"emozione\"][\"conversione\"]\n",
    "mappa_sesso = mappa_conversione[\"datasets\"][3][\"parametri\"][\"sesso\"]\n",
    "dataset = open(\"./ita/demos.csv\",\"w\")\n",
    "dataset.write(\"dataset;lang;path;actor_id;emotion;statement_id\\n\")\n",
    "\n",
    "dataframe = pd.DataFrame([], columns=[\"dataset\",\"lang\",\"path\",\"actor_id\",\"gender\",\"emotion\",\"statement_id\"])\n",
    "dataframe = dataframe.set_index(\"path\")\n",
    "\n",
    "# Recupero id degli statement, perché variano a seconda dell'emozione, ma a noi conviene renderli indipendenti\n",
    "statement_recover = pd.read_csv(f\"./eng/ESD/0015/0015.txt\", sep=\"\\t\",names=[\"info\",\"text\",\"emotion\"], encoding=\"utf-8\")\n",
    "statement_recover = statement_recover.dropna()\n",
    "statement_recover[\"statement_id\"]=statement_recover[\"info\"].map(lambda txt_info: str(txt_info).split(\"_\")[1])\n",
    "statement_recover=statement_recover[statement_recover[\"emotion\"]==\"Neutral\"][[\"statement_id\",\"text\"]]\n",
    "\n",
    "for actor in os.listdir(\"./eng/ESD\"):\n",
    "    actor_take = pd.read_csv(f\"./eng/ESD/{actor}/{actor}.txt\", sep=\"\\t\",names=[\"info\",\"text\",\"emotion\"], encoding=\"utf-8\")\n",
    "    actor_take = actor_take.dropna()\n",
    "    actor_take[\"emotion\"] = actor_take[\"emotion\"].map(lambda emotion: emotion.strip())\n",
    "    actor_take = actor_take[actor_take.emotion != \"Surprise\"]\n",
    "\n",
    "    actor_take=actor_take.merge(statement_recover)\n",
    "    actor_take[\"gender\"] = mappa_sesso[actor]\n",
    "    actor_take[\"dataset\"]=\"esd\"\n",
    "    actor_take[\"lang\"]=\"en\"\n",
    "    actor_take[\"actor_id\"] = actor_take[\"info\"].map(lambda txt_info: txt_info.split(\"_\")[0])\n",
    "    actor_take[\"emotion\"] = actor_take[\"emotion\"].map(lambda emotion: emozioni[emotion])\n",
    "    actor_take[\"path\"] = \"./eng/ESD/\"+actor+\"/\"+actor_take[\"emotion\"]+\"/\"+actor_take[\"info\"]+\".wav\"\n",
    "    \n",
    "    actor_take=actor_take.drop(\"info\", axis=1)\n",
    "    dataframe = pd.concat([dataframe,actor_take], axis=0)\n",
    "    \n",
    "dataframe.to_csv(\"./eng/esd.csv\",sep=\";\",index=False,columns=[\"dataset\",\"lang\",\"path\",\"actor_id\",\"gender\",\"emotion\",\"statement_id\"])\n",
    "dataset.close()"
   ]
  },
  {
   "cell_type": "markdown",
   "metadata": {},
   "source": [
    "Trasforma EMOVO da formato Standard a formato comodo per EVC"
   ]
  },
  {
   "cell_type": "code",
   "execution_count": null,
   "metadata": {},
   "outputs": [],
   "source": [
    "with open(\"./ita/EMOVO/file.txt\",\"r\") as contenitore_path_file:\n",
    "    files = contenitore_path_file.readlines()\n",
    "\n",
    "emozioni = mappa_conversione[\"datasets\"][5][\"parametri\"][\"emozione\"][\"conversione\"]\n",
    "separatore = mappa_conversione[\"datasets\"][5][\"separatore\"]\n",
    "parametri = mappa_conversione[\"datasets\"][5][\"parametri\"]\n",
    "dataset = open(\"./ita/emovo.csv\",\"w\")\n",
    "dataset.write(\"dataset;lang;path;actor_id;gender;emotion;statement_id\\n\")\n",
    "for file in files:\n",
    "    corpo_utile = file.split(\".\")[0]\n",
    "    corpo_utile = corpo_utile.replace(\"-\",\"_\")\n",
    "    id_attore = corpo_utile.split(separatore)[parametri[\"attore\"][\"posizione\"]]\n",
    "    try:\n",
    "        emozione = emozioni[corpo_utile.split(separatore)[parametri[\"emozione\"][\"posizione\"]]]\n",
    "    except KeyError as keyex:\n",
    "        continue\n",
    "    sesso = corpo_utile.split(separatore)[parametri[\"sesso\"][\"posizione\"]].lower()\n",
    "    id_testo = corpo_utile.split(separatore)[parametri[\"testo\"][\"posizione\"]]\n",
    "    dataset.write(f\"emovo;it;./ita/EMOVO/{file.strip()};{id_attore};{sesso};{emozione};{id_testo}\\n\")\n",
    "dataset.close()"
   ]
  },
  {
   "cell_type": "markdown",
   "metadata": {},
   "source": [
    "Trasforma EMOITA da formato Standard a formato comodo per EVC"
   ]
  },
  {
   "cell_type": "code",
   "execution_count": null,
   "metadata": {},
   "outputs": [],
   "source": [
    "with open(\"./ita/EMOITA/file.txt\",\"r\") as contenitore_path_file:\n",
    "    files = contenitore_path_file.readlines()\n",
    "\n",
    "emozioni = mappa_conversione[\"datasets\"][6][\"parametri\"][\"emozione\"][\"conversione\"]\n",
    "separatore = mappa_conversione[\"datasets\"][6][\"separatore\"]\n",
    "parametri = mappa_conversione[\"datasets\"][6][\"parametri\"]\n",
    "dataset = open(\"./ita/emoita.csv\",\"w\")\n",
    "dataset.write(\"dataset;lang;path;actor_id;gender;emotion;statement_id\\n\")\n",
    "for file in files:\n",
    "    corpo_utile = file.split(\".\")[0]\n",
    "    corpo_utile = corpo_utile.replace(\"-\",\"_\")\n",
    "    id_attore = corpo_utile.split(separatore)[parametri[\"attore\"][\"posizione\"]]\n",
    "    try:\n",
    "        emozione = emozioni[corpo_utile.split(separatore)[parametri[\"emozione\"][\"posizione\"]]]\n",
    "    except KeyError as keyex:\n",
    "        continue\n",
    "    sesso = corpo_utile.split(separatore)[parametri[\"sesso\"][\"posizione\"]].lower()\n",
    "    id_testo = corpo_utile.split(separatore)[parametri[\"testo\"][\"posizione\"]]\n",
    "    dataset.write(f\"emoita;it;./ita/EMOITA/{file.strip()};{id_attore};{sesso};{emozione};{id_testo}\\n\")\n",
    "dataset.close()"
   ]
  },
  {
   "cell_type": "markdown",
   "metadata": {},
   "source": [
    "Trasforma CaFE da formato Standard a formato comodo per EVC"
   ]
  },
  {
   "cell_type": "code",
   "execution_count": 20,
   "metadata": {},
   "outputs": [],
   "source": [
    "with open(\"./fr/CaFe/text.txt\",\"r\") as contenitore_path_file:\n",
    "    files = contenitore_path_file.readlines()\n",
    "    \n",
    "mappa_sesso = mappa_conversione[\"datasets\"][8][\"parametri\"][\"sesso\"][\"conversione\"]\n",
    "emozioni = mappa_conversione[\"datasets\"][8][\"parametri\"][\"emozione\"][\"conversione\"]\n",
    "dataset = open(\"./fr/cafe.csv\",\"w\")\n",
    "dataset.write(\"dataset;lang;path;actor_id;gender;emotion;statement_id\\n\")\n",
    "for file in files:\n",
    "    corpo_utile = file.strip().split(\".\")[1].split(\"/\")[-1].split(\"-\")\n",
    "    sesso = mappa_sesso[corpo_utile[0]]\n",
    "    id_attore = f\"{corpo_utile[0]}\"\n",
    "    try:\n",
    "        emozione = emozioni[corpo_utile[1]]\n",
    "    except KeyError:\n",
    "        continue\n",
    "    id_testo=corpo_utile[3]\n",
    "    dataset.write(f\"cafe;fr;./fr/CaFe/{file[2:].strip()};{id_attore};{sesso};{emozione};{id_testo}\\n\")\n",
    "dataset.close()\n"
   ]
  },
  {
   "cell_type": "markdown",
   "metadata": {},
   "source": [
    "Statistiche datasets"
   ]
  },
  {
   "cell_type": "code",
   "execution_count": 21,
   "metadata": {},
   "outputs": [
    {
     "name": "stdout",
     "output_type": "stream",
     "text": [
      "Elaboro dataset ESD\n",
      "Elaboro dataset RAVDESS\n",
      "Elaboro dataset SAVEE\n",
      "Elaboro dataset CaFe\n",
      "Elaboro dataset ECARINI\n",
      "Elaboro dataset EMOVO\n",
      "sad        3834\n",
      "anger      3831\n",
      "happy      3828\n",
      "neutral    3733\n",
      "Name: emotion, dtype: int64\n"
     ]
    },
    {
     "data": {
      "image/png": "[encoded data removed]",
      "text/plain": [
       "<Figure size 640x480 with 2 Axes>"
      ]
     },
     "metadata": {},
     "output_type": "display_data"
    }
   ],
   "source": [
    "import pandas as pd\n",
    "import seaborn as sns\n",
    "import matplotlib.pyplot as plt\n",
    "\n",
    "datasets = {\n",
    "    \"ESD\":\"./eng/esd.csv\",\n",
    "    \"RAVDESS\":\"./eng/ravdess.csv\",\n",
    "    \"SAVEE\": \"./eng/savee.csv\",\n",
    "    \"CaFe\": \"./fr/cafe.csv\",\n",
    "    \"ECARINI\":\"./ita/ecarini.csv\",\n",
    "    \"EMOVO\":\"./ita/emovo.csv\", \n",
    "}\n",
    "\n",
    "dataframe = pd.DataFrame([])\n",
    "for dataset, path in datasets.items():\n",
    "    print(f\"Elaboro dataset {dataset}\")\n",
    "    dataframe = pd.concat([dataframe, pd.read_csv(path, sep=\";\")], axis=0)\n",
    "    \n",
    "\n",
    "print(dataframe['emotion'].value_counts())\n",
    "\n",
    "mappa_emozione = {\n",
    "    \"sad\":1,\n",
    "    \"anger\":2,\n",
    "    \"happy\":3,\n",
    "    \"neutral\":4\n",
    "}\n",
    "\n",
    "dataframe[\"emotion_id\"] = dataframe['emotion'].map(lambda x: mappa_emozione[x])\n",
    "dataframe[\"emotion_id\"]\n",
    "fig, axs = plt.subplots(2)\n",
    "\n",
    "sns.countplot(data=dataframe, x=\"emotion\", hue=\"gender\", ax=axs[0])\n",
    "sns.countplot(data=dataframe, x=\"emotion\", hue=\"lang\", ax=axs[1])\n",
    "plt.show()\n",
    "\n",
    "dataframe.to_csv(\"./dataset.csv\",sep=\";\",index=False,columns=[\"dataset\",\"lang\",\"path\",\"actor_id\",\"gender\",\"emotion\",\"statement_id\"])"
   ]
  }
 ],
 "metadata": {
  "kernelspec": {
   "display_name": "Python 3.8.13 ('stargan')",
   "language": "python",
   "name": "python3"
  },
  "language_info": {
   "codemirror_mode": {
    "name": "ipython",
    "version": 3
   },
   "file_extension": ".py",
   "mimetype": "text/x-python",
   "name": "python",
   "nbconvert_exporter": "python",
   "pygments_lexer": "ipython3",
   "version": "3.8.13"
  },
  "orig_nbformat": 4,
  "vscode": {
   "interpreter": {
    "hash": "41cf6369101c236fbb8c513ee7ce9bd4a332013cdab8e6409e977d479b63df9e"
   }
  }
 },
 "nbformat": 4,
 "nbformat_minor": 2
}
