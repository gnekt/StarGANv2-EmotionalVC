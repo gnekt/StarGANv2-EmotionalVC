{
 "cells": [
  {
   "cell_type": "code",
   "execution_count": 5,
   "metadata": {},
   "outputs": [
    {
     "name": "stdout",
     "output_type": "stream",
     "text": [
      "[Errno 2] No such file or directory: 'StarGANv2-EmotionalVC'\n",
      "/notebooks/StarGANv2-EmotionalVC\n"
     ]
    }
   ],
   "source": [
    "%cd StarGANv2-EmotionalVC\n",
    "import os\n",
    "import pandas as pd\n",
    "\n",
    "separetor=\"|\"\n",
    "data_header=[\"actor_id\",\"statement_id\",\"source_path\",\"source_emotion\",\"reference_path\",\"reference_emotion\"]\n",
    "train_set_percentage=80\n",
    "validation_set_percentage=20"
   ]
  },
  {
   "cell_type": "code",
   "execution_count": 7,
   "metadata": {},
   "outputs": [],
   "source": [
    "dataset_path=\"./Data/dataset.txt\""
   ]
  },
  {
   "cell_type": "code",
   "execution_count": 12,
   "metadata": {},
   "outputs": [],
   "source": [
    "if not os.path.exists(dataset_path):\n",
    "    raise FileNotFoundError(f\"Check path! {dataset_path} does not exist!\")\n",
    "    \n",
    "# Obtain Train e Validation set according to a percentage\n",
    "complete_dataset = pd.read_csv(dataset_path, sep=separetor, names=data_header)\n",
    "complete_dataset = complete_dataset.sample(frac=1)\n",
    "training_dataset = complete_dataset.iloc[:int((complete_dataset.shape[0]*train_set_percentage)/100)]\n",
    "partial_dataset = complete_dataset.drop(training_dataset.index)\n",
    "validation_dataset = partial_dataset.iloc[:int((complete_dataset.shape[0]*validation_set_percentage)/100)]\n",
    "\n",
    "training_dataset.to_csv(\"./Data/training_list.txt\",header=None,index=False)\n",
    "validation_dataset.to_csv(\"./Data/validation_list.txt\",header=None,index=False)"
   ]
  }
 ],
 "metadata": {
  "kernelspec": {
   "display_name": "Python 3 (ipykernel)",
   "language": "python",
   "name": "python3"
  },
  "language_info": {
   "codemirror_mode": {
    "name": "ipython",
    "version": 3
   },
   "file_extension": ".py",
   "mimetype": "text/x-python",
   "name": "python",
   "nbconvert_exporter": "python",
   "pygments_lexer": "ipython3",
   "version": "3.9.13"
  },
  "orig_nbformat": 4
 },
 "nbformat": 4,
 "nbformat_minor": 2
}
